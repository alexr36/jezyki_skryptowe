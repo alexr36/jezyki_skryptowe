{
 "cells": [
  {
   "cell_type": "code",
   "execution_count": 3,
   "id": "b0ec2f93-dc98-4f09-aa0a-1f7097f00e2c",
   "metadata": {},
   "outputs": [
    {
     "name": "stdout",
     "output_type": "stream",
     "text": [
      "Hello, World\n"
     ]
    }
   ],
   "source": [
    "name = \"World\"\n",
    "print(f\"Hello, {name}\")"
   ]
  },
  {
   "cell_type": "markdown",
   "id": "12494eb1-9017-440b-9ed7-55fd2555f3af",
   "metadata": {},
   "source": [
    "# Moja aplikacja w języku Python. Oto mój pierwszy notes Jupyter."
   ]
  },
  {
   "cell_type": "code",
   "execution_count": null,
   "id": "3f354fbc-ba4c-456b-970f-3140bf9d88ad",
   "metadata": {},
   "outputs": [],
   "source": []
  },
  {
   "cell_type": "markdown",
   "id": "9788fbe0",
   "metadata": {},
   "source": []
  }
 ],
 "metadata": {
  "kernelspec": {
   "display_name": "Python 3",
   "language": "python",
   "name": "python3"
  },
  "language_info": {
   "codemirror_mode": {
    "name": "ipython",
    "version": 3
   },
   "file_extension": ".py",
   "mimetype": "text/x-python",
   "name": "python",
   "nbconvert_exporter": "python",
   "pygments_lexer": "ipython3",
   "version": "3.9.6"
  }
 },
 "nbformat": 4,
 "nbformat_minor": 5
}
